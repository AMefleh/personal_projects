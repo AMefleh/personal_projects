{
 "cells": [
  {
   "cell_type": "code",
   "execution_count": 123,
   "id": "6b54e960-db7c-461f-bd2a-58b82f602a6a",
   "metadata": {},
   "outputs": [],
   "source": [
    "import pandas as pd\n",
    "import numpy as np\n",
    "import re"
   ]
  },
  {
   "cell_type": "markdown",
   "id": "219afde5-b92e-4a2f-80f2-0198604afdd5",
   "metadata": {},
   "source": [
    "Reading in text file and converting list into set while excluding first row. Also removing leading and trailing whitespaces."
   ]
  },
  {
   "cell_type": "code",
   "execution_count": 124,
   "id": "d0a53b72-e13e-4e3e-bd0c-97d7b601ec81",
   "metadata": {},
   "outputs": [],
   "source": [
    "df = pd.read_csv(\"/Users/mefleh/Desktop/tlds-alpha-by-domain.txt\", header=None, names=[\"Domain\"], skiprows=1)\n",
    "df[\"Domain\"] = df[\"Domain\"].str.lower()\n",
    "domains = df[\"Domain\"].astype(\"string\")\n",
    "domains = set(domains)"
   ]
  },
  {
   "cell_type": "markdown",
   "id": "cc242fa5-aedf-4b7b-94c4-884bc2df18e7",
   "metadata": {},
   "source": [
    "Defining the valid email pattern using regular expressions"
   ]
  },
  {
   "cell_type": "code",
   "execution_count": 125,
   "id": "98fdf0e7-559c-4c07-9e35-8344f1faa91b",
   "metadata": {},
   "outputs": [],
   "source": [
    "emailPattern = re.compile(r\"\"\"\n",
    "    ^(?:[a-zA-Z0-9!#$%&'*+\\-/=?^_`{|}~]+(?:\\.[a-zA-Z0-9!#$%&'*+\\-/=?^_`{|}~]+)*|\"[^\"]+\")@\n",
    "    (?:[a-zA-Z0-9](?:[a-zA-Z0-9-]*[a-zA-Z0-9])?\\.)+[a-zA-Z]{2,}$\n",
    "\"\"\", re.VERBOSE)"
   ]
  },
  {
   "cell_type": "markdown",
   "id": "641b345b-dea9-49ed-b212-c8de47b92026",
   "metadata": {},
   "source": [
    "Defining a function to validate email addresses with specific error messages"
   ]
  },
  {
   "cell_type": "code",
   "execution_count": 126,
   "id": "12643c7c-f779-454c-a43e-e0f45f9580c4",
   "metadata": {},
   "outputs": [],
   "source": [
    "def validateEmail(email):\n",
    "    errors = []\n",
    "\n",
    "    if email.count(\"@\") != 1:\n",
    "        errors.append(\"not valid due to presence of more than one @ symbol\")\n",
    "\n",
    "    if \"..\" in email or \".@\" in email or \"@.\" in email:\n",
    "        errors.append(\"not valid due to dot directly before or after @ symbol or due to consecutive dots\")\n",
    "\n",
    "    if email.startswith(\".\") or email.endswith(\".\"):\n",
    "        errors.append(\"not valid due to starting or ending with a dot\")\n",
    "\n",
    "    if email.startswith(\"@\"):\n",
    "        errors.append(\"not valid due to starting with @ symbol; this is a Twitter handle\")\n",
    "\n",
    "    validChars = set(\"abcdefghijklmnopqrstuvwxyzABCDEFGHIJKLMNOPQRSTUVWXYZ0123456789!#$%&'*+-/=?^_`{|}~.@\")\n",
    "    invalidChars = [char for char in email if char not in validChars]\n",
    "    if invalidChars:\n",
    "        errors.append(f\"not valid due to presence of invalid characters: {''.join(invalidChars)}\")\n",
    "\n",
    "    if len(errors) > 0:\n",
    "        return ', '.join(errors)\n",
    "\n",
    "    localPart, domainPart = email.split(\"@\")\n",
    "    if not localPart or not domainPart:\n",
    "        errors.append(\"not valid due to empty local or domain part\")\n",
    "\n",
    "    tld = domainPart.lower().rsplit(\".\", 1)[-1]\n",
    "    if tld not in domains:\n",
    "        errors.append(\"not valid due to incorrect top-level domain\")\n",
    "\n",
    "    if len(errors) == 0:\n",
    "        return \"potentially valid\"\n",
    "    else:\n",
    "        return ', '.join(errors)"
   ]
  },
  {
   "cell_type": "markdown",
   "id": "4109ce95-4aa6-43d1-ae37-ff2f8f90b656",
   "metadata": {},
   "source": [
    "Testing each rule violation with different test emails"
   ]
  },
  {
   "cell_type": "code",
   "execution_count": 128,
   "id": "4f5a2915-2261-4ab0-a4ec-92a0ddcf80fb",
   "metadata": {},
   "outputs": [
    {
     "name": "stdout",
     "output_type": "stream",
     "text": [
      "user@name@example.com: not valid due to presence of more than one @ symbol\n",
      "\n",
      "username.@example.com: not valid due to dot directly before or after @ symbol or due to consecutive dots\n",
      "\n",
      ".username@example.com: not valid due to starting or ending with a dot\n",
      "\n",
      "@example.com: not valid due to starting with @ symbol; this is a Twitter handle\n",
      "\n",
      "user(name@example.com: not valid due to presence of invalid characters: (\n",
      "\n",
      "username@: not valid due to empty local or domain part, not valid due to incorrect top-level domain\n",
      "\n",
      "username@example.abdallah: not valid due to incorrect top-level domain\n",
      "\n",
      "username@example.com: potentially valid\n",
      "\n"
     ]
    }
   ],
   "source": [
    "testEmails = [\n",
    "    \"user@name@example.com\",      # violates rule 1\n",
    "    \"username.@example.com\",      # violates rule 2\n",
    "    \".username@example.com\",      # violates rule 3\n",
    "    \"@example.com\",               # violates rule 4\n",
    "    \"user(name@example.com\",      # violates rule 5\n",
    "    \"username@\",                  # violates rule 6\n",
    "    \"username@example.abdallah\",  # violates rule 7\n",
    "    \"username@example.com\"        # no violation\n",
    "]\n",
    "\n",
    "\n",
    "for email in testEmails:\n",
    "    print(f\"{email}: {validateEmail(email)}\\n\")"
   ]
  },
  {
   "cell_type": "markdown",
   "id": "3f663707-bd89-4d2f-9e3e-dc3eddad0f3b",
   "metadata": {},
   "source": [
    "Testing email address that violates multiple rules"
   ]
  },
  {
   "cell_type": "code",
   "execution_count": 129,
   "id": "1f174ee6-6f57-4867-9d4c-d5eb2af71b02",
   "metadata": {},
   "outputs": [
    {
     "name": "stdout",
     "output_type": "stream",
     "text": [
      "te@..st.@.example.abdallah: not valid due to presence of more than one @ symbol, not valid due to dot directly before or after @ symbol or due to consecutive dots\n"
     ]
    }
   ],
   "source": [
    "testMultiple = \"te@..st.@.example.abdallah\"\n",
    "print(f\"{testMultiple}: {validateEmail(testMultiple)}\")"
   ]
  },
  {
   "cell_type": "markdown",
   "id": "ab320e23-57c4-4e08-a800-baafd27d4f08",
   "metadata": {},
   "source": [
    "Allow user to input email address to test the function"
   ]
  },
  {
   "cell_type": "code",
   "execution_count": 122,
   "id": "4138868e-b6a8-4881-ab75-a30bfe98001a",
   "metadata": {},
   "outputs": [
    {
     "name": "stdin",
     "output_type": "stream",
     "text": [
      "Please enter an email address:  matthew.dube@maine.edu\n"
     ]
    },
    {
     "name": "stdout",
     "output_type": "stream",
     "text": [
      "matthew.dube@maine.edu: potentially valid\n",
      "\n"
     ]
    }
   ],
   "source": [
    "userEmail = input(\"Please enter an email address: \")\n",
    "userEmail = userEmail.lower()\n",
    "result = validateEmail(userEmail)\n",
    "#print(result)\n",
    "print(f\"{userEmail}: {result}\\n\")"
   ]
  },
  {
   "cell_type": "code",
   "execution_count": null,
   "id": "1359a8e0-59a1-4a0d-b381-f3eeb384b3f0",
   "metadata": {},
   "outputs": [],
   "source": []
  }
 ],
 "metadata": {
  "kernelspec": {
   "display_name": "Python 3 (ipykernel)",
   "language": "python",
   "name": "python3"
  },
  "language_info": {
   "codemirror_mode": {
    "name": "ipython",
    "version": 3
   },
   "file_extension": ".py",
   "mimetype": "text/x-python",
   "name": "python",
   "nbconvert_exporter": "python",
   "pygments_lexer": "ipython3",
   "version": "3.11.5"
  }
 },
 "nbformat": 4,
 "nbformat_minor": 5
}
